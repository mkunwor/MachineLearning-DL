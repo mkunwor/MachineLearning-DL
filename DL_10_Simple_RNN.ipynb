{
  "nbformat": 4,
  "nbformat_minor": 0,
  "metadata": {
    "colab": {
      "provenance": []
    },
    "kernelspec": {
      "name": "python3",
      "display_name": "Python 3"
    },
    "language_info": {
      "name": "python"
    }
  },
  "cells": [
    {
      "cell_type": "code",
      "execution_count": null,
      "metadata": {
        "id": "T0k5FE6qP6La"
      },
      "outputs": [],
      "source": [
        "from keras.models import Sequential\n",
        "from keras.layers import Embedding,SimpleRNN\n",
        "from keras.datasets import imdb\n",
        "from keras.preprocessing import sequence\n",
        "from keras.layers import Dense\n",
        "from keras.utils import pad_sequences"
      ]
    },
    {
      "cell_type": "code",
      "source": [
        "max_features=10000\n",
        "maxlen=500\n",
        "batch_size=32\n",
        "print('Loading data.....')\n",
        "(X_train,y_train),(X_test,y_test)=imdb.load_data(num_words=max_features)\n",
        "print(len(X_train),'train sequences')\n",
        "print(len(X_test),\"test sequences\")\n",
        "\n",
        "print(\"Pad sequences(samples x time)\")\n",
        "X_train= pad_sequences(X_train,maxlen=maxlen)\n",
        "X_test=pad_sequences(X_test,maxlen=maxlen)\n",
        "print(\"X_train shape:\",X_train.shape)\n",
        "print(\"X_test shape: \",X_test.shape)"
      ],
      "metadata": {
        "colab": {
          "base_uri": "https://localhost:8080/"
        },
        "id": "uK12KeUFQkfZ",
        "outputId": "268176cd-976b-40f0-fc5a-79d97036bd23"
      },
      "execution_count": null,
      "outputs": [
        {
          "output_type": "stream",
          "name": "stdout",
          "text": [
            "Loading data.....\n",
            "25000 train sequences\n",
            "25000 test sequences\n",
            "Pad sequences(samples x time)\n",
            "X_train shape: (25000, 500)\n",
            "X_test shape:  (25000, 500)\n"
          ]
        }
      ]
    },
    {
      "cell_type": "code",
      "source": [
        "X_train"
      ],
      "metadata": {
        "colab": {
          "base_uri": "https://localhost:8080/"
        },
        "id": "8aOiw0yUR0Um",
        "outputId": "84ca66f9-6a9a-4b16-817a-51fa10c1868b"
      },
      "execution_count": null,
      "outputs": [
        {
          "output_type": "execute_result",
          "data": {
            "text/plain": [
              "array([[   0,    0,    0, ...,   19,  178,   32],\n",
              "       [   0,    0,    0, ...,   16,  145,   95],\n",
              "       [   0,    0,    0, ...,    7,  129,  113],\n",
              "       ...,\n",
              "       [   0,    0,    0, ...,    4, 3586,    2],\n",
              "       [   0,    0,    0, ...,   12,    9,   23],\n",
              "       [   0,    0,    0, ...,  204,  131,    9]], dtype=int32)"
            ]
          },
          "metadata": {},
          "execution_count": 8
        }
      ]
    },
    {
      "cell_type": "code",
      "source": [
        "y_train"
      ],
      "metadata": {
        "colab": {
          "base_uri": "https://localhost:8080/"
        },
        "id": "GeYV1Ka_U03O",
        "outputId": "32c84b2f-407e-407e-a821-d73c10e66a7f"
      },
      "execution_count": null,
      "outputs": [
        {
          "output_type": "execute_result",
          "data": {
            "text/plain": [
              "array([1, 0, 0, ..., 0, 1, 0])"
            ]
          },
          "metadata": {},
          "execution_count": 9
        }
      ]
    },
    {
      "cell_type": "code",
      "source": [
        "from keras.callbacks import EarlyStopping\n",
        "\n",
        "# Create an EarlyStopping callback\n",
        "early_stopping = EarlyStopping(monitor='val_loss', patience=3)\n",
        "\n",
        "model=Sequential()\n",
        "model.add(Embedding(max_features,32))\n",
        "model.add(SimpleRNN(32))\n",
        "model.add(Dense(1,activation='sigmoid'))\n",
        "model.compile(optimizer='rmsprop',loss='binary_crossentropy',metrics='accuracy')"
      ],
      "metadata": {
        "id": "-vsgOpMWS5xz"
      },
      "execution_count": null,
      "outputs": []
    },
    {
      "cell_type": "code",
      "source": [
        "history=model.fit(X_train,y_train,epochs=10,batch_size=128,validation_split=0.2,callbacks=[early_stopping])"
      ],
      "metadata": {
        "colab": {
          "base_uri": "https://localhost:8080/"
        },
        "id": "VxcUtmSAVBLX",
        "outputId": "ae4d552c-10b6-4995-d52b-d39c31799663"
      },
      "execution_count": null,
      "outputs": [
        {
          "output_type": "stream",
          "name": "stdout",
          "text": [
            "Epoch 1/10\n",
            "157/157 [==============================] - 24s 145ms/step - loss: 0.5997 - accuracy: 0.6643 - val_loss: 0.4579 - val_accuracy: 0.7994\n",
            "Epoch 2/10\n",
            "157/157 [==============================] - 23s 144ms/step - loss: 0.4095 - accuracy: 0.8274 - val_loss: 0.4075 - val_accuracy: 0.8202\n",
            "Epoch 3/10\n",
            "157/157 [==============================] - 22s 142ms/step - loss: 0.3044 - accuracy: 0.8757 - val_loss: 0.3573 - val_accuracy: 0.8498\n",
            "Epoch 4/10\n",
            "157/157 [==============================] - 22s 143ms/step - loss: 0.2475 - accuracy: 0.9039 - val_loss: 0.3342 - val_accuracy: 0.8644\n",
            "Epoch 5/10\n",
            "157/157 [==============================] - 22s 142ms/step - loss: 0.2017 - accuracy: 0.9247 - val_loss: 0.3405 - val_accuracy: 0.8630\n",
            "Epoch 6/10\n",
            "157/157 [==============================] - 23s 146ms/step - loss: 0.1550 - accuracy: 0.9437 - val_loss: 0.3909 - val_accuracy: 0.8680\n",
            "Epoch 7/10\n",
            "157/157 [==============================] - 24s 151ms/step - loss: 0.1187 - accuracy: 0.9585 - val_loss: 0.4354 - val_accuracy: 0.8362\n"
          ]
        }
      ]
    },
    {
      "cell_type": "code",
      "source": [
        "acc=history.history['accuracy']\n",
        "val_acc=history.history['val_accuracy']\n",
        "loss=history.history['loss']\n",
        "val_loss=history.history['val_loss']"
      ],
      "metadata": {
        "id": "WDXrzgC9VZvj"
      },
      "execution_count": null,
      "outputs": []
    },
    {
      "cell_type": "code",
      "source": [
        "import matplotlib.pyplot as plt\n",
        "epochs=range(len(acc))\n",
        "\n",
        "plt.plot(epochs,acc,'bo',label='Traning acc')\n",
        "plt.plot(epochs,val_acc,'b',label='Validation_acc')\n",
        "plt.title('Training and validation accuracy')\n",
        "plt.legend()"
      ],
      "metadata": {
        "colab": {
          "base_uri": "https://localhost:8080/",
          "height": 299
        },
        "id": "5ZEEesZXXDtP",
        "outputId": "938c1d7d-5810-4eec-c573-7229a237ae8d"
      },
      "execution_count": null,
      "outputs": [
        {
          "output_type": "execute_result",
          "data": {
            "text/plain": [
              "<matplotlib.legend.Legend at 0x7f986e9d8940>"
            ]
          },
          "metadata": {},
          "execution_count": 26
        },
        {
          "output_type": "display_data",
          "data": {
            "text/plain": [
              "<Figure size 432x288 with 1 Axes>"
            ],
            "image/png": "[encoded data removed]"
          },
          "metadata": {
            "needs_background": "light"
          }
        }
      ]
    },
    {
      "cell_type": "code",
      "source": [],
      "metadata": {
        "id": "JrwATU1UYtpj"
      },
      "execution_count": null,
      "outputs": []
    }
  ]
}