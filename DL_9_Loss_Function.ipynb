{
  "nbformat": 4,
  "nbformat_minor": 0,
  "metadata": {
    "colab": {
      "provenance": []
    },
    "kernelspec": {
      "name": "python3",
      "display_name": "Python 3"
    },
    "language_info": {
      "name": "python"
    }
  },
  "cells": [
    {
      "cell_type": "code",
      "execution_count": null,
      "metadata": {
        "id": "LFhohShmSl-M"
      },
      "outputs": [],
      "source": [
        "import numpy as np\n",
        "import tensorflow as tf\n",
        "import matplotlib.pyplot as plt\n"
      ]
    },
    {
      "cell_type": "code",
      "source": [
        "x_guess = tf.linspace(-1.,1.,100)\n",
        "x_actual=tf.constant(0,dtype=tf.float32)"
      ],
      "metadata": {
        "id": "O0Sb_3O7S4y0"
      },
      "execution_count": null,
      "outputs": []
    },
    {
      "cell_type": "code",
      "source": [
        "x_guess"
      ],
      "metadata": {
        "colab": {
          "base_uri": "https://localhost:8080/"
        },
        "id": "iU1xffi1WLIe",
        "outputId": "1507e2c0-0734-4cf9-b961-42eadbb08611"
      },
      "execution_count": null,
      "outputs": [
        {
          "output_type": "execute_result",
          "data": {
            "text/plain": [
              "<tf.Tensor 'linspace_6/Slice:0' shape=(100,) dtype=float32>"
            ]
          },
          "metadata": {},
          "execution_count": 39
        }
      ]
    },
    {
      "cell_type": "code",
      "source": [
        "x_actual"
      ],
      "metadata": {
        "colab": {
          "base_uri": "https://localhost:8080/"
        },
        "id": "WebKLa0dWkoQ",
        "outputId": "b162a575-3d0f-402c-cc87-b433f4b1dcc3"
      },
      "execution_count": null,
      "outputs": [
        {
          "output_type": "execute_result",
          "data": {
            "text/plain": [
              "<tf.Tensor 'Const_6:0' shape=() dtype=float32>"
            ]
          },
          "metadata": {},
          "execution_count": 40
        }
      ]
    },
    {
      "cell_type": "code",
      "source": [
        "l1_loss=tf.abs((x_guess-x_actual))\n",
        "l2_loss=tf.square((x_guess-x_actual))"
      ],
      "metadata": {
        "id": "04UiZwWJTOmQ"
      },
      "execution_count": null,
      "outputs": []
    },
    {
      "cell_type": "code",
      "source": [],
      "metadata": {
        "id": "TXjIu1_dWMoQ"
      },
      "execution_count": null,
      "outputs": []
    },
    {
      "cell_type": "code",
      "source": [
        "l1_loss"
      ],
      "metadata": {
        "colab": {
          "base_uri": "https://localhost:8080/"
        },
        "id": "TSwqmgChUnsH",
        "outputId": "4bb9b077-0f80-4bbd-a293-07e84f245a92"
      },
      "execution_count": null,
      "outputs": [
        {
          "output_type": "execute_result",
          "data": {
            "text/plain": [
              "<tf.Tensor 'Abs_2:0' shape=(100,) dtype=float32>"
            ]
          },
          "metadata": {},
          "execution_count": 42
        }
      ]
    },
    {
      "cell_type": "code",
      "source": [
        "l2_loss\n"
      ],
      "metadata": {
        "colab": {
          "base_uri": "https://localhost:8080/"
        },
        "id": "ZqSRH91VU0DI",
        "outputId": "8bef3019-dce3-4362-9685-71130c6a5f89"
      },
      "execution_count": null,
      "outputs": [
        {
          "output_type": "execute_result",
          "data": {
            "text/plain": [
              "<tf.Tensor 'Square_2:0' shape=(100,) dtype=float32>"
            ]
          },
          "metadata": {},
          "execution_count": 43
        }
      ]
    },
    {
      "cell_type": "code",
      "source": [
        "tf.compat.v1.disable_eager_execution()\n",
        "sess=tf.compat.v1.Session()\n",
        "with sess:\n",
        "  x_,l1_,l2_= sess.run([x_guess,l1_loss,l2_loss])\n",
        "  plt.plot(x_,l1_,label='l1_loss')\n",
        "  plt.plot(x_,l2_,label='l2_loss')\n",
        "  plt.legend()\n",
        "  plt.show()"
      ],
      "metadata": {
        "colab": {
          "base_uri": "https://localhost:8080/",
          "height": 265
        },
        "id": "cxLt8z1EU_C-",
        "outputId": "c6d02732-7394-4d78-b883-c50b02944000"
      },
      "execution_count": null,
      "outputs": [
        {
          "output_type": "display_data",
          "data": {
            "text/plain": [
              "<Figure size 432x288 with 1 Axes>"
            ],
            "image/png": "[encoded data removed]"
          },
          "metadata": {
            "needs_background": "light"
          }
        }
      ]
    },
    {
      "cell_type": "markdown",
      "source": [
        "**Huper Loss**"
      ],
      "metadata": {
        "id": "tbv6q0ukYV-v"
      }
    },
    {
      "cell_type": "markdown",
      "source": [
        "**Hinge Loss**"
      ],
      "metadata": {
        "id": "EN2Cxv6AZCzZ"
      }
    },
    {
      "cell_type": "code",
      "source": [
        "x_guess2 = tf.linspace(-3.,5.,500)\n",
        "x_actual2=tf.convert_to_tensor([1.]*500)\n",
        "hinge_loss=tf.maximum(0.,1.,-(x_guess2*x_actual2))\n",
        "tf.compat.v1.disable_eager_execution()\n",
        "with tf.compat.v1.Session() as sess:\n",
        "  x_,hin_= sess.run([x_guess2,hinge_loss])\n",
        "  plt.plot(x_,hin_,'--',label='hin_')\n",
        "  plt.legend()\n",
        "  plt.show()"
      ],
      "metadata": {
        "id": "3aOCfs43V-8x"
      },
      "execution_count": null,
      "outputs": []
    },
    {
      "cell_type": "code",
      "source": [],
      "metadata": {
        "id": "jFjmdJ9CaCKm"
      },
      "execution_count": null,
      "outputs": []
    }
  ]
}