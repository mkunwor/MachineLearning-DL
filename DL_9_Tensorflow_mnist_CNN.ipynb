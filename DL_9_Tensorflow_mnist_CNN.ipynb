{
  "nbformat": 4,
  "nbformat_minor": 0,
  "metadata": {
    "colab": {
      "provenance": []
    },
    "kernelspec": {
      "name": "python3",
      "display_name": "Python 3"
    },
    "language_info": {
      "name": "python"
    },
    "accelerator": "GPU",
    "gpuClass": "standard"
  },
  "cells": [
    {
      "cell_type": "code",
      "execution_count": null,
      "metadata": {
        "colab": {
          "base_uri": "https://localhost:8080/"
        },
        "id": "A67MEbCOcfd_",
        "outputId": "38b2afab-752d-4c37-8aa2-d365a2f6436b"
      },
      "outputs": [
        {
          "output_type": "stream",
          "name": "stdout",
          "text": [
            "2.9.2\n"
          ]
        }
      ],
      "source": [
        "import tensorflow as tf\n",
        "import seaborn as sns\n",
        "import numpy as np\n",
        "import pandas as pd\n",
        "import matplotlib.pyplot as plt\n",
        "import matplotlib.image as mping\n",
        "\n",
        "print(tf.__version__)"
      ]
    },
    {
      "cell_type": "markdown",
      "source": [
        "**Data Preprocessing**"
      ],
      "metadata": {
        "id": "W67KbntpddYs"
      }
    },
    {
      "cell_type": "code",
      "source": [
        "mnist= tf.keras.datasets.mnist\n",
        "(x_train,y_train),(x_test,y_test)=mnist.load_data()"
      ],
      "metadata": {
        "colab": {
          "base_uri": "https://localhost:8080/"
        },
        "id": "fiDSrEd9c79Y",
        "outputId": "f63fe383-97cf-4fc6-d7d7-731a5f7b4064"
      },
      "execution_count": null,
      "outputs": [
        {
          "output_type": "stream",
          "name": "stdout",
          "text": [
            "Downloading data from https://storage.googleapis.com/tensorflow/tf-keras-datasets/mnist.npz\n",
            "11490434/11490434 [==============================] - 0s 0us/step\n"
          ]
        }
      ]
    },
    {
      "cell_type": "code",
      "source": [
        "sns.countplot(y_train)"
      ],
      "metadata": {
        "colab": {
          "base_uri": "https://localhost:8080/",
          "height": 341
        },
        "id": "Sh9nRF-yd7vD",
        "outputId": "45b85c0c-fe29-4cfa-edd8-5d4890dc7353"
      },
      "execution_count": null,
      "outputs": [
        {
          "output_type": "stream",
          "name": "stderr",
          "text": [
            "/usr/local/lib/python3.8/dist-packages/seaborn/_decorators.py:36: FutureWarning: Pass the following variable as a keyword arg: x. From version 0.12, the only valid positional argument will be `data`, and passing other arguments without an explicit keyword will result in an error or misinterpretation.\n",
            "  warnings.warn(\n"
          ]
        },
        {
          "output_type": "execute_result",
          "data": {
            "text/plain": [
              "<matplotlib.axes._subplots.AxesSubplot at 0x7f3e643a14c0>"
            ]
          },
          "metadata": {},
          "execution_count": 3
        },
        {
          "output_type": "display_data",
          "data": {
            "text/plain": [
              "<Figure size 432x288 with 1 Axes>"
            ],
            "image/png": "[encoded data removed]"
          },
          "metadata": {
            "needs_background": "light"
          }
        }
      ]
    },
    {
      "cell_type": "markdown",
      "source": [
        "**CHECK OF NaN VALUES**"
      ],
      "metadata": {
        "id": "uIt2G0RreOO_"
      }
    },
    {
      "cell_type": "code",
      "source": [
        "np.isnan(x_train).any()"
      ],
      "metadata": {
        "colab": {
          "base_uri": "https://localhost:8080/"
        },
        "id": "U8Il1Xeadyz7",
        "outputId": "a5611c73-7c44-4766-e541-00342326cec2"
      },
      "execution_count": null,
      "outputs": [
        {
          "output_type": "execute_result",
          "data": {
            "text/plain": [
              "False"
            ]
          },
          "metadata": {},
          "execution_count": 4
        }
      ]
    },
    {
      "cell_type": "code",
      "source": [
        "np.isnan(x_test).any()"
      ],
      "metadata": {
        "colab": {
          "base_uri": "https://localhost:8080/"
        },
        "id": "STwbAlQfeZZT",
        "outputId": "532e4d42-9acb-4712-fa9e-cf8c7ee9fd39"
      },
      "execution_count": null,
      "outputs": [
        {
          "output_type": "execute_result",
          "data": {
            "text/plain": [
              "False"
            ]
          },
          "metadata": {},
          "execution_count": 5
        }
      ]
    },
    {
      "cell_type": "code",
      "source": [
        "x_train.shape"
      ],
      "metadata": {
        "colab": {
          "base_uri": "https://localhost:8080/"
        },
        "id": "PBFaQw7HelrX",
        "outputId": "6da702e7-4b22-4eb5-d2b9-de867bca527a"
      },
      "execution_count": null,
      "outputs": [
        {
          "output_type": "execute_result",
          "data": {
            "text/plain": [
              "(60000, 28, 28)"
            ]
          },
          "metadata": {},
          "execution_count": 6
        }
      ]
    },
    {
      "cell_type": "code",
      "source": [
        "x_test.shape"
      ],
      "metadata": {
        "colab": {
          "base_uri": "https://localhost:8080/"
        },
        "id": "BKZ7Av9Se7UN",
        "outputId": "f767e975-906c-4360-a467-50a01324aeba"
      },
      "execution_count": null,
      "outputs": [
        {
          "output_type": "execute_result",
          "data": {
            "text/plain": [
              "(10000, 28, 28)"
            ]
          },
          "metadata": {},
          "execution_count": 7
        }
      ]
    },
    {
      "cell_type": "markdown",
      "source": [
        "**NORMALIZATION AND RESHAPING**"
      ],
      "metadata": {
        "id": "SJLzz2tqei8I"
      }
    },
    {
      "cell_type": "code",
      "source": [
        "input_shape=(28,28,1)\n",
        "x_train=x_train.reshape(x_train.shape[0],x_train.shape[1],x_train.shape[2],1)\n",
        "x_train=x_train/255.0\n",
        "x_test=x_test.reshape(x_test.shape[0],x_test.shape[1],x_test.shape[2],1)\n",
        "x_test=x_test/255.0"
      ],
      "metadata": {
        "id": "Y6akqIc1ecsM"
      },
      "execution_count": null,
      "outputs": []
    },
    {
      "cell_type": "code",
      "source": [
        "x_test.shape"
      ],
      "metadata": {
        "colab": {
          "base_uri": "https://localhost:8080/"
        },
        "id": "UTkiGivmgIFR",
        "outputId": "1b34548d-cc2b-4280-c376-9c34608f8ed8"
      },
      "execution_count": null,
      "outputs": [
        {
          "output_type": "execute_result",
          "data": {
            "text/plain": [
              "(10000, 28, 28, 1)"
            ]
          },
          "metadata": {},
          "execution_count": 9
        }
      ]
    },
    {
      "cell_type": "markdown",
      "source": [
        "**LABEL ENCODING**"
      ],
      "metadata": {
        "id": "Kk1dUq4TgrnS"
      }
    },
    {
      "cell_type": "code",
      "source": [
        "y_train=tf.one_hot(y_train.astype(np.int32),depth=10)\n",
        "y_test=tf.one_hot(y_test.astype(np.int32),depth=10)"
      ],
      "metadata": {
        "id": "CAZfP6txgmsw"
      },
      "execution_count": null,
      "outputs": []
    },
    {
      "cell_type": "code",
      "source": [
        "y_train"
      ],
      "metadata": {
        "colab": {
          "base_uri": "https://localhost:8080/"
        },
        "id": "rrQqsYAThG2h",
        "outputId": "e61f2598-68fa-4d25-fd6a-059d1e1b1843"
      },
      "execution_count": null,
      "outputs": [
        {
          "output_type": "execute_result",
          "data": {
            "text/plain": [
              "<tf.Tensor: shape=(60000, 10), dtype=float32, numpy=\n",
              "array([[0., 0., 0., ..., 0., 0., 0.],\n",
              "       [1., 0., 0., ..., 0., 0., 0.],\n",
              "       [0., 0., 0., ..., 0., 0., 0.],\n",
              "       ...,\n",
              "       [0., 0., 0., ..., 0., 0., 0.],\n",
              "       [0., 0., 0., ..., 0., 0., 0.],\n",
              "       [0., 0., 0., ..., 0., 1., 0.]], dtype=float32)>"
            ]
          },
          "metadata": {},
          "execution_count": 11
        }
      ]
    },
    {
      "cell_type": "code",
      "source": [
        "y_test"
      ],
      "metadata": {
        "colab": {
          "base_uri": "https://localhost:8080/"
        },
        "id": "uM3NvdTehIm4",
        "outputId": "2418a7f2-27e5-4155-a693-57e9a724a959"
      },
      "execution_count": null,
      "outputs": [
        {
          "output_type": "execute_result",
          "data": {
            "text/plain": [
              "<tf.Tensor: shape=(10000, 10), dtype=float32, numpy=\n",
              "array([[0., 0., 0., ..., 1., 0., 0.],\n",
              "       [0., 0., 1., ..., 0., 0., 0.],\n",
              "       [0., 1., 0., ..., 0., 0., 0.],\n",
              "       ...,\n",
              "       [0., 0., 0., ..., 0., 0., 0.],\n",
              "       [0., 0., 0., ..., 0., 0., 0.],\n",
              "       [0., 0., 0., ..., 0., 0., 0.]], dtype=float32)>"
            ]
          },
          "metadata": {},
          "execution_count": 12
        }
      ]
    },
    {
      "cell_type": "markdown",
      "source": [
        "**DATA VISUALIZE**"
      ],
      "metadata": {
        "id": "5m8iDOBphdhc"
      }
    },
    {
      "cell_type": "code",
      "source": [
        "plt.matshow(x_train[200][:,:,0])\n",
        "y_train[200]"
      ],
      "metadata": {
        "colab": {
          "base_uri": "https://localhost:8080/",
          "height": 293
        },
        "id": "CiOo6mJXhaRB",
        "outputId": "f50cb33f-2830-4de1-b81b-61699227befd"
      },
      "execution_count": null,
      "outputs": [
        {
          "output_type": "execute_result",
          "data": {
            "text/plain": [
              "<tf.Tensor: shape=(10,), dtype=float32, numpy=array([0., 1., 0., 0., 0., 0., 0., 0., 0., 0.], dtype=float32)>"
            ]
          },
          "metadata": {},
          "execution_count": 13
        },
        {
          "output_type": "display_data",
          "data": {
            "text/plain": [
              "<Figure size 288x288 with 1 Axes>"
            ],
            "image/png": "[encoded data removed]"
          },
          "metadata": {
            "needs_background": "light"
          }
        }
      ]
    },
    {
      "cell_type": "markdown",
      "source": [
        "**CNN**"
      ],
      "metadata": {
        "id": "JmB_9pYZ2gVo"
      }
    },
    {
      "cell_type": "code",
      "source": [
        "batch_size=64\n",
        "num_classes=10\n",
        "epochs=3"
      ],
      "metadata": {
        "id": "vjIPtlOCh0uw"
      },
      "execution_count": null,
      "outputs": []
    },
    {
      "cell_type": "code",
      "source": [
        "#padding=> input shape= output shape\n",
        "model=tf.keras.models.Sequential([\n",
        "    tf.keras.layers.Conv2D(32,(5,5),padding='same',activation='relu',input_shape=input_shape), \n",
        "    tf.keras.layers.Conv2D(32,(5,5),padding='same',activation='relu'),\n",
        "    tf.keras.layers.MaxPool2D(),\n",
        "    tf.keras.layers.Dropout(0.25),\n",
        "    tf.keras.layers.Conv2D(64,(3,3),padding='same',activation='relu'),\n",
        "   tf.keras.layers.Conv2D(64,(3,3),padding='same',activation='relu'),\n",
        "   tf.keras.layers.MaxPool2D(strides=(2,2)),\n",
        "   tf.keras.layers.Dropout(0.25),\n",
        "   tf.keras.layers.Flatten(),\n",
        "   tf.keras.layers.Dense(128,activation='relu'),\n",
        "   tf.keras.layers.Dropout(0.5),\n",
        "   tf.keras.layers.Dense(num_classes,activation='softmax')\n",
        "])\n",
        "model.compile(optimizer=tf.keras.optimizers.RMSprop(epsilon=1e-08),loss='categorical_crossentropy',metrics=['acc'])"
      ],
      "metadata": {
        "id": "X2bCOJBE2wLe"
      },
      "execution_count": null,
      "outputs": []
    },
    {
      "cell_type": "markdown",
      "source": [
        "**Fit the training data**"
      ],
      "metadata": {
        "id": "OvejdimI9xYJ"
      }
    },
    {
      "cell_type": "code",
      "source": [
        "class myCallback(tf.keras.callbacks.Callback):\n",
        "  def on_epoch_end(self,epoch,logs={}):\n",
        "    if(logs.get('acc')>0.995):\n",
        "      print(\"\\nReached 99.5% accuracy so cancelling training\")\n",
        "      self.model.stop_training=True\n",
        "\n",
        "callbacks=myCallback()"
      ],
      "metadata": {
        "id": "XJ6m3lon43wh"
      },
      "execution_count": null,
      "outputs": []
    },
    {
      "cell_type": "code",
      "source": [
        "history = model.fit(x_train,y_train,\n",
        "                    batch_size=batch_size,\n",
        "                    epochs=epochs,\n",
        "                    validation_split=0.1,\n",
        "                    callbacks=[callbacks]\n",
        "                    )"
      ],
      "metadata": {
        "colab": {
          "base_uri": "https://localhost:8080/"
        },
        "id": "l3efa1F--ibd",
        "outputId": "8642b9d1-4378-4283-f66c-f15261a9468c"
      },
      "execution_count": null,
      "outputs": [
        {
          "output_type": "stream",
          "name": "stdout",
          "text": [
            "Epoch 1/3\n",
            "844/844 [==============================] - 17s 10ms/step - loss: 0.2198 - acc: 0.9311 - val_loss: 0.0438 - val_acc: 0.9870\n",
            "Epoch 2/3\n",
            "844/844 [==============================] - 8s 10ms/step - loss: 0.0754 - acc: 0.9787 - val_loss: 0.0337 - val_acc: 0.9907\n",
            "Epoch 3/3\n",
            "844/844 [==============================] - 6s 7ms/step - loss: 0.0606 - acc: 0.9828 - val_loss: 0.0466 - val_acc: 0.9873\n"
          ]
        }
      ]
    },
    {
      "cell_type": "markdown",
      "source": [
        "**EVALUATION**"
      ],
      "metadata": {
        "id": "2czok_u8AQJk"
      }
    },
    {
      "cell_type": "markdown",
      "source": [
        "**LOSS and ACCURACY CURVE**"
      ],
      "metadata": {
        "id": "iCfeDuGmBFDP"
      }
    },
    {
      "cell_type": "code",
      "source": [
        "fig,ax=plt.subplots(2,1)\n",
        "ax[0].plot(history.history['loss'],color='b',label='Training Loss')\n",
        "ax[0].plot(history.history['val_loss'],color='r',label='Validation Loss',axes=ax[0])\n",
        "legend=ax[0].legend(loc='best',shadow=True)\n",
        "\n",
        "ax[1].plot(history.history['acc'],color='b',label='Training Accuracy')\n",
        "ax[1].plot(history.history['val_acc'],color='r',label='Validation Accuracy')\n",
        "legend=ax[1].legend(loc='best',shadow=True)\n",
        "\n",
        "\n"
      ],
      "metadata": {
        "colab": {
          "base_uri": "https://localhost:8080/",
          "height": 265
        },
        "id": "-Ha-86sp_L8A",
        "outputId": "433cd6be-2411-45b9-d065-a4f3ec9f814b"
      },
      "execution_count": null,
      "outputs": [
        {
          "output_type": "display_data",
          "data": {
            "text/plain": [
              "<Figure size 432x288 with 2 Axes>"
            ],
            "image/png": "[encoded data removed]"
          },
          "metadata": {
            "needs_background": "light"
          }
        }
      ]
    },
    {
      "cell_type": "code",
      "source": [
        "test_loss,test_acc=model.evaluate(x_test,y_test)"
      ],
      "metadata": {
        "colab": {
          "base_uri": "https://localhost:8080/"
        },
        "id": "GaBzrkgBCsL4",
        "outputId": "a634644c-8b53-4d7e-8ec4-d224d7679afe"
      },
      "execution_count": null,
      "outputs": [
        {
          "output_type": "stream",
          "name": "stdout",
          "text": [
            "313/313 [==============================] - 2s 6ms/step - loss: 0.0436 - acc: 0.9869\n"
          ]
        }
      ]
    },
    {
      "cell_type": "code",
      "source": [
        "#predict the values from testing dataset\n",
        "Y_pred=model.predict(x_test)\n",
        "Y_pred\n",
        "#COnvert predictions classes to one hot vectors\n",
        "Y_pred_classes=np.argmax(Y_pred,axis=1)\n",
        "\n",
        "#Convert testing observations to one hot vectors\n",
        "Y_true=np.argmax(y_test,axis=1 )\n",
        "#compute confusion matrix\n",
        "confusion_matrix =tf.math.confusion_matrix(Y_true,Y_pred_classes)"
      ],
      "metadata": {
        "colab": {
          "base_uri": "https://localhost:8080/"
        },
        "id": "psDFhS84DZdO",
        "outputId": "e8ad2a31-24e4-48a3-b8d3-1a1d961986d8"
      },
      "execution_count": null,
      "outputs": [
        {
          "output_type": "stream",
          "name": "stdout",
          "text": [
            "313/313 [==============================] - 1s 3ms/step\n"
          ]
        }
      ]
    },
    {
      "cell_type": "code",
      "source": [
        "plt.figure(figsize=(10,8))\n",
        "sns.heatmap(confusion_matrix,annot=True,fmt='g')\n"
      ],
      "metadata": {
        "colab": {
          "base_uri": "https://localhost:8080/",
          "height": 501
        },
        "id": "Bp9iAXPPE2Ad",
        "outputId": "618edab4-03e6-4290-8b2c-a5e3f5192ae1"
      },
      "execution_count": null,
      "outputs": [
        {
          "output_type": "execute_result",
          "data": {
            "text/plain": [
              "<matplotlib.axes._subplots.AxesSubplot at 0x7f3db0376520>"
            ]
          },
          "metadata": {},
          "execution_count": 22
        },
        {
          "output_type": "display_data",
          "data": {
            "text/plain": [
              "<Figure size 720x576 with 2 Axes>"
            ],
            "image/png": "[encoded data removed]"
          },
          "metadata": {
            "needs_background": "light"
          }
        }
      ]
    },
    {
      "cell_type": "code",
      "source": [
        "Y_pred"
      ],
      "metadata": {
        "colab": {
          "base_uri": "https://localhost:8080/"
        },
        "id": "lmLlkusaFKVt",
        "outputId": "e189bb76-faae-4ed2-aeb6-285321eb6c72"
      },
      "execution_count": null,
      "outputs": [
        {
          "output_type": "execute_result",
          "data": {
            "text/plain": [
              "array([[1.25539232e-10, 1.71216659e-08, 4.70583643e-07, ...,\n",
              "        9.99998093e-01, 3.78872134e-09, 7.86528176e-07],\n",
              "       [3.84156522e-07, 3.98880587e-07, 9.99998212e-01, ...,\n",
              "        1.06788027e-08, 5.74437031e-08, 2.29458466e-10],\n",
              "       [1.20712466e-04, 9.92442608e-01, 9.90644447e-04, ...,\n",
              "        1.42402831e-03, 1.50825642e-03, 4.08434134e-04],\n",
              "       ...,\n",
              "       [1.63050105e-15, 7.13207582e-09, 9.62051879e-12, ...,\n",
              "        3.27227911e-09, 6.53082282e-08, 3.00736843e-07],\n",
              "       [5.90554716e-10, 4.16667187e-11, 3.93564955e-12, ...,\n",
              "        4.28827557e-10, 3.86735192e-05, 1.15736478e-08],\n",
              "       [9.39909114e-07, 9.06907900e-08, 2.75305069e-07, ...,\n",
              "        1.15116302e-11, 3.37896313e-06, 2.17590101e-09]], dtype=float32)"
            ]
          },
          "metadata": {},
          "execution_count": 24
        }
      ]
    },
    {
      "cell_type": "code",
      "source": [
        "Y_pred_classes\n"
      ],
      "metadata": {
        "colab": {
          "base_uri": "https://localhost:8080/"
        },
        "id": "yplGCMVHGnuI",
        "outputId": "f2e6b728-b90b-45dd-9bef-70a506b51dc2"
      },
      "execution_count": null,
      "outputs": [
        {
          "output_type": "execute_result",
          "data": {
            "text/plain": [
              "array([7, 2, 1, ..., 4, 5, 6])"
            ]
          },
          "metadata": {},
          "execution_count": 25
        }
      ]
    },
    {
      "cell_type": "code",
      "source": [
        "Y_true"
      ],
      "metadata": {
        "colab": {
          "base_uri": "https://localhost:8080/"
        },
        "id": "XbDqgtTOG6OS",
        "outputId": "f9961bc5-2db1-4091-f2b6-adf0633edb50"
      },
      "execution_count": null,
      "outputs": [
        {
          "output_type": "execute_result",
          "data": {
            "text/plain": [
              "array([7, 2, 1, ..., 4, 5, 6])"
            ]
          },
          "metadata": {},
          "execution_count": 26
        }
      ]
    },
    {
      "cell_type": "code",
      "source": [],
      "metadata": {
        "id": "_ZXhHuO7HUWW"
      },
      "execution_count": null,
      "outputs": []
    }
  ]
}